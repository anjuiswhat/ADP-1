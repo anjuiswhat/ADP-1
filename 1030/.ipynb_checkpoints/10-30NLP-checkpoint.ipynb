{
 "cells": [
  {
   "cell_type": "code",
   "execution_count": 1,
   "metadata": {},
   "outputs": [],
   "source": [
    "import pandas as pd\n",
    "import warnings\n",
    "warnings.filterwarnings(action='ignore')\n",
    "import matplotlib.pyplot as plt\n",
    "%matplotlib inline"
   ]
  },
  {
   "cell_type": "code",
   "execution_count": 2,
   "metadata": {},
   "outputs": [],
   "source": [
    "df = pd.read_excel('Naver_news.xlsx')"
   ]
  },
  {
   "cell_type": "code",
   "execution_count": 3,
   "metadata": {},
   "outputs": [
    {
     "data": {
      "text/html": [
       "<div>\n",
       "<style scoped>\n",
       "    .dataframe tbody tr th:only-of-type {\n",
       "        vertical-align: middle;\n",
       "    }\n",
       "\n",
       "    .dataframe tbody tr th {\n",
       "        vertical-align: top;\n",
       "    }\n",
       "\n",
       "    .dataframe thead th {\n",
       "        text-align: right;\n",
       "    }\n",
       "</style>\n",
       "<table border=\"1\" class=\"dataframe\">\n",
       "  <thead>\n",
       "    <tr style=\"text-align: right;\">\n",
       "      <th></th>\n",
       "      <th>title</th>\n",
       "      <th>year</th>\n",
       "      <th>month</th>\n",
       "      <th>day</th>\n",
       "      <th>time</th>\n",
       "      <th>source</th>\n",
       "      <th>page</th>\n",
       "    </tr>\n",
       "  </thead>\n",
       "  <tbody>\n",
       "    <tr>\n",
       "      <th>0</th>\n",
       "      <td>2007년부터 폐수배출기준 업종별 차등적용</td>\n",
       "      <td>2004</td>\n",
       "      <td>2</td>\n",
       "      <td>25</td>\n",
       "      <td>17:09:00</td>\n",
       "      <td>파이낸셜뉴스</td>\n",
       "      <td>0</td>\n",
       "    </tr>\n",
       "    <tr>\n",
       "      <th>1</th>\n",
       "      <td>2007년부터 폐수배출기준 업종별 차등적용</td>\n",
       "      <td>2004</td>\n",
       "      <td>2</td>\n",
       "      <td>25</td>\n",
       "      <td>17:09:00</td>\n",
       "      <td>파이낸셜뉴스</td>\n",
       "      <td>0</td>\n",
       "    </tr>\n",
       "    <tr>\n",
       "      <th>2</th>\n",
       "      <td>2007년부터 폐수배출기준 업종별 차등적용</td>\n",
       "      <td>2004</td>\n",
       "      <td>2</td>\n",
       "      <td>25</td>\n",
       "      <td>17:09:00</td>\n",
       "      <td>파이낸셜뉴스</td>\n",
       "      <td>0</td>\n",
       "    </tr>\n",
       "    <tr>\n",
       "      <th>3</th>\n",
       "      <td>2007년부터 폐수배출기준 업종별 차등적용</td>\n",
       "      <td>2004</td>\n",
       "      <td>2</td>\n",
       "      <td>25</td>\n",
       "      <td>17:09:00</td>\n",
       "      <td>파이낸셜뉴스</td>\n",
       "      <td>0</td>\n",
       "    </tr>\n",
       "    <tr>\n",
       "      <th>4</th>\n",
       "      <td>2007년부터 폐수배출기준 업종별 차등적용</td>\n",
       "      <td>2004</td>\n",
       "      <td>2</td>\n",
       "      <td>25</td>\n",
       "      <td>17:09:00</td>\n",
       "      <td>파이낸셜뉴스</td>\n",
       "      <td>0</td>\n",
       "    </tr>\n",
       "  </tbody>\n",
       "</table>\n",
       "</div>"
      ],
      "text/plain": [
       "                     title  year  month  day      time  source  page\n",
       "0  2007년부터 폐수배출기준 업종별 차등적용  2004      2   25  17:09:00  파이낸셜뉴스     0\n",
       "1  2007년부터 폐수배출기준 업종별 차등적용  2004      2   25  17:09:00  파이낸셜뉴스     0\n",
       "2  2007년부터 폐수배출기준 업종별 차등적용  2004      2   25  17:09:00  파이낸셜뉴스     0\n",
       "3  2007년부터 폐수배출기준 업종별 차등적용  2004      2   25  17:09:00  파이낸셜뉴스     0\n",
       "4  2007년부터 폐수배출기준 업종별 차등적용  2004      2   25  17:09:00  파이낸셜뉴스     0"
      ]
     },
     "execution_count": 3,
     "metadata": {},
     "output_type": "execute_result"
    }
   ],
   "source": [
    "df.head()"
   ]
  },
  {
   "cell_type": "code",
   "execution_count": 4,
   "metadata": {},
   "outputs": [],
   "source": [
    "text = df['title']"
   ]
  },
  {
   "cell_type": "code",
   "execution_count": 5,
   "metadata": {},
   "outputs": [
    {
     "data": {
      "text/plain": [
       "0    2007년부터 폐수배출기준 업종별 차등적용\n",
       "1    2007년부터 폐수배출기준 업종별 차등적용\n",
       "2    2007년부터 폐수배출기준 업종별 차등적용\n",
       "3    2007년부터 폐수배출기준 업종별 차등적용\n",
       "4    2007년부터 폐수배출기준 업종별 차등적용\n",
       "Name: title, dtype: object"
      ]
     },
     "execution_count": 5,
     "metadata": {},
     "output_type": "execute_result"
    }
   ],
   "source": [
    "text[:5]"
   ]
  },
  {
   "cell_type": "markdown",
   "metadata": {},
   "source": [
    "#### wordcloud 라이브러리 설치"
   ]
  },
  {
   "cell_type": "code",
   "execution_count": 1,
   "metadata": {},
   "outputs": [],
   "source": [
    "from konlpy.tag import Okt, Kkma, Komoran #형태소 분석\n",
    "from collections import Counter #빈도수 세기\n",
    "from wordcloud import WordCloud"
   ]
  },
  {
   "cell_type": "code",
   "execution_count": 2,
   "metadata": {},
   "outputs": [
    {
     "name": "stderr",
     "output_type": "stream",
     "text": [
      "C:\\Users\\dlarh\\AppData\\Roaming\\Python\\Python37\\site-packages\\jpype\\_core.py:209: UserWarning: \n",
      "-------------------------------------------------------------------------------\n",
      "Deprecated: convertStrings was not specified when starting the JVM. The default\n",
      "behavior in JPype will be False starting in JPype 0.8. The recommended setting\n",
      "for new code is convertStrings=False.  The legacy value of True was assumed for\n",
      "this session. If you are a user of an application that reported this warning,\n",
      "please file a ticket with the developer.\n",
      "-------------------------------------------------------------------------------\n",
      "\n",
      "  \"\"\")\n"
     ]
    }
   ],
   "source": [
    "ok = Okt()\n",
    "kkma = Kkma()\n",
    "kom = Komoran()"
   ]
  },
  {
   "cell_type": "code",
   "execution_count": null,
   "metadata": {},
   "outputs": [],
   "source": []
  }
 ],
 "metadata": {
  "interpreter": {
   "hash": "ca886cc036a68e3f1a017223c2fc2c80a9067ef9ccbc637fc068c311044b690d"
  },
  "kernelspec": {
   "display_name": "adp",
   "language": "python",
   "name": "adp"
  },
  "language_info": {
   "codemirror_mode": {
    "name": "ipython",
    "version": 3
   },
   "file_extension": ".py",
   "mimetype": "text/x-python",
   "name": "python",
   "nbconvert_exporter": "python",
   "pygments_lexer": "ipython3",
   "version": "3.7.11"
  }
 },
 "nbformat": 4,
 "nbformat_minor": 4
}
