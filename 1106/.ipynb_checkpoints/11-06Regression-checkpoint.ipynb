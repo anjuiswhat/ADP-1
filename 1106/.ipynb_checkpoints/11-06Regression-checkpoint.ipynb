{
 "cells": [
  {
   "cell_type": "code",
   "execution_count": 1,
   "metadata": {},
   "outputs": [],
   "source": [
    "import pandas as pd\n",
    "import numpy as np\n",
    "import warnings\n",
    "warnings.filterwarnings(action='ignore')\n",
    "import matplotlib.pyplot as plt"
   ]
  },
  {
   "cell_type": "code",
   "execution_count": 2,
   "metadata": {},
   "outputs": [],
   "source": [
    "train_df = pd.read_csv('train.csv')\n",
    "test_df = pd.read_csv('test.csv')"
   ]
  },
  {
   "cell_type": "markdown",
   "metadata": {},
   "source": [
    "##### bicycle_train.csv : 학습 데이터\n",
    "##### date_time : 일별 날짜\n",
    "##### wind_direction: 풍향 (degree)\n",
    "##### sky_condition : 하늘 상태 (하단 설명 참조)\n",
    "##### precipitation_form : 강수 형태 (하단 설명 참조)\n",
    "##### wind_speed : 풍속 (m/s)\n",
    "##### humidity : 습도 (%)\n",
    "##### low_temp : 최저 기온 ( `C)\n",
    "##### high_temp : 최고 기온 ( `C)\n",
    "##### Precipitation_Probability : 강수 확률 (%)\n",
    "##### number_of_rentals : 따릉이 대여량"
   ]
  },
  {
   "cell_type": "code",
   "execution_count": 3,
   "metadata": {},
   "outputs": [
    {
     "data": {
      "text/html": [
       "<div>\n",
       "<style scoped>\n",
       "    .dataframe tbody tr th:only-of-type {\n",
       "        vertical-align: middle;\n",
       "    }\n",
       "\n",
       "    .dataframe tbody tr th {\n",
       "        vertical-align: top;\n",
       "    }\n",
       "\n",
       "    .dataframe thead th {\n",
       "        text-align: right;\n",
       "    }\n",
       "</style>\n",
       "<table border=\"1\" class=\"dataframe\">\n",
       "  <thead>\n",
       "    <tr style=\"text-align: right;\">\n",
       "      <th></th>\n",
       "      <th>date_time</th>\n",
       "      <th>wind_direction</th>\n",
       "      <th>sky_condition</th>\n",
       "      <th>precipitation_form</th>\n",
       "      <th>wind_speed</th>\n",
       "      <th>humidity</th>\n",
       "      <th>low_temp</th>\n",
       "      <th>high_temp</th>\n",
       "      <th>Precipitation_Probability</th>\n",
       "    </tr>\n",
       "  </thead>\n",
       "  <tbody>\n",
       "    <tr>\n",
       "      <th>0</th>\n",
       "      <td>2021-04-01</td>\n",
       "      <td>108.833</td>\n",
       "      <td>3.000</td>\n",
       "      <td>0.000</td>\n",
       "      <td>2.900</td>\n",
       "      <td>28.333</td>\n",
       "      <td>11.800</td>\n",
       "      <td>20.667</td>\n",
       "      <td>18.333</td>\n",
       "    </tr>\n",
       "    <tr>\n",
       "      <th>1</th>\n",
       "      <td>2021-04-02</td>\n",
       "      <td>116.717</td>\n",
       "      <td>3.850</td>\n",
       "      <td>0.000</td>\n",
       "      <td>2.662</td>\n",
       "      <td>46.417</td>\n",
       "      <td>12.000</td>\n",
       "      <td>19.000</td>\n",
       "      <td>28.500</td>\n",
       "    </tr>\n",
       "    <tr>\n",
       "      <th>2</th>\n",
       "      <td>2021-04-03</td>\n",
       "      <td>82.669</td>\n",
       "      <td>4.000</td>\n",
       "      <td>0.565</td>\n",
       "      <td>2.165</td>\n",
       "      <td>77.258</td>\n",
       "      <td>8.875</td>\n",
       "      <td>16.368</td>\n",
       "      <td>52.847</td>\n",
       "    </tr>\n",
       "    <tr>\n",
       "      <th>3</th>\n",
       "      <td>2021-04-04</td>\n",
       "      <td>44.123</td>\n",
       "      <td>3.466</td>\n",
       "      <td>0.466</td>\n",
       "      <td>3.747</td>\n",
       "      <td>63.288</td>\n",
       "      <td>6.250</td>\n",
       "      <td>17.368</td>\n",
       "      <td>37.671</td>\n",
       "    </tr>\n",
       "    <tr>\n",
       "      <th>4</th>\n",
       "      <td>2021-04-05</td>\n",
       "      <td>147.791</td>\n",
       "      <td>1.500</td>\n",
       "      <td>0.000</td>\n",
       "      <td>1.560</td>\n",
       "      <td>48.176</td>\n",
       "      <td>7.188</td>\n",
       "      <td>18.684</td>\n",
       "      <td>4.459</td>\n",
       "    </tr>\n",
       "    <tr>\n",
       "      <th>...</th>\n",
       "      <td>...</td>\n",
       "      <td>...</td>\n",
       "      <td>...</td>\n",
       "      <td>...</td>\n",
       "      <td>...</td>\n",
       "      <td>...</td>\n",
       "      <td>...</td>\n",
       "      <td>...</td>\n",
       "      <td>...</td>\n",
       "    </tr>\n",
       "    <tr>\n",
       "      <th>86</th>\n",
       "      <td>2021-06-26</td>\n",
       "      <td>177.149</td>\n",
       "      <td>3.980</td>\n",
       "      <td>0.223</td>\n",
       "      <td>1.066</td>\n",
       "      <td>74.628</td>\n",
       "      <td>20.312</td>\n",
       "      <td>28.579</td>\n",
       "      <td>36.486</td>\n",
       "    </tr>\n",
       "    <tr>\n",
       "      <th>87</th>\n",
       "      <td>2021-06-27</td>\n",
       "      <td>138.723</td>\n",
       "      <td>2.777</td>\n",
       "      <td>0.135</td>\n",
       "      <td>1.290</td>\n",
       "      <td>70.236</td>\n",
       "      <td>20.812</td>\n",
       "      <td>29.000</td>\n",
       "      <td>18.378</td>\n",
       "    </tr>\n",
       "    <tr>\n",
       "      <th>88</th>\n",
       "      <td>2021-06-28</td>\n",
       "      <td>111.095</td>\n",
       "      <td>3.338</td>\n",
       "      <td>1.270</td>\n",
       "      <td>1.692</td>\n",
       "      <td>70.338</td>\n",
       "      <td>21.000</td>\n",
       "      <td>28.789</td>\n",
       "      <td>35.946</td>\n",
       "    </tr>\n",
       "    <tr>\n",
       "      <th>89</th>\n",
       "      <td>2021-06-29</td>\n",
       "      <td>171.622</td>\n",
       "      <td>3.270</td>\n",
       "      <td>0.595</td>\n",
       "      <td>1.470</td>\n",
       "      <td>70.473</td>\n",
       "      <td>21.000</td>\n",
       "      <td>29.421</td>\n",
       "      <td>27.770</td>\n",
       "    </tr>\n",
       "    <tr>\n",
       "      <th>90</th>\n",
       "      <td>2021-06-30</td>\n",
       "      <td>181.709</td>\n",
       "      <td>3.270</td>\n",
       "      <td>0.703</td>\n",
       "      <td>1.180</td>\n",
       "      <td>75.203</td>\n",
       "      <td>21.500</td>\n",
       "      <td>30.211</td>\n",
       "      <td>29.054</td>\n",
       "    </tr>\n",
       "  </tbody>\n",
       "</table>\n",
       "<p>91 rows × 9 columns</p>\n",
       "</div>"
      ],
      "text/plain": [
       "     date_time  wind_direction  sky_condition  precipitation_form  wind_speed  \\\n",
       "0   2021-04-01         108.833          3.000               0.000       2.900   \n",
       "1   2021-04-02         116.717          3.850               0.000       2.662   \n",
       "2   2021-04-03          82.669          4.000               0.565       2.165   \n",
       "3   2021-04-04          44.123          3.466               0.466       3.747   \n",
       "4   2021-04-05         147.791          1.500               0.000       1.560   \n",
       "..         ...             ...            ...                 ...         ...   \n",
       "86  2021-06-26         177.149          3.980               0.223       1.066   \n",
       "87  2021-06-27         138.723          2.777               0.135       1.290   \n",
       "88  2021-06-28         111.095          3.338               1.270       1.692   \n",
       "89  2021-06-29         171.622          3.270               0.595       1.470   \n",
       "90  2021-06-30         181.709          3.270               0.703       1.180   \n",
       "\n",
       "    humidity  low_temp  high_temp  Precipitation_Probability  \n",
       "0     28.333    11.800     20.667                     18.333  \n",
       "1     46.417    12.000     19.000                     28.500  \n",
       "2     77.258     8.875     16.368                     52.847  \n",
       "3     63.288     6.250     17.368                     37.671  \n",
       "4     48.176     7.188     18.684                      4.459  \n",
       "..       ...       ...        ...                        ...  \n",
       "86    74.628    20.312     28.579                     36.486  \n",
       "87    70.236    20.812     29.000                     18.378  \n",
       "88    70.338    21.000     28.789                     35.946  \n",
       "89    70.473    21.000     29.421                     27.770  \n",
       "90    75.203    21.500     30.211                     29.054  \n",
       "\n",
       "[91 rows x 9 columns]"
      ]
     },
     "execution_count": 3,
     "metadata": {},
     "output_type": "execute_result"
    }
   ],
   "source": [
    "test_df"
   ]
  },
  {
   "cell_type": "code",
   "execution_count": 4,
   "metadata": {},
   "outputs": [
    {
     "name": "stdout",
     "output_type": "stream",
     "text": [
      "<class 'pandas.core.frame.DataFrame'>\n",
      "RangeIndex: 273 entries, 0 to 272\n",
      "Data columns (total 10 columns):\n",
      " #   Column                     Non-Null Count  Dtype  \n",
      "---  ------                     --------------  -----  \n",
      " 0   date_time                  273 non-null    object \n",
      " 1   wind_direction             273 non-null    float64\n",
      " 2   sky_condition              273 non-null    float64\n",
      " 3   precipitation_form         273 non-null    float64\n",
      " 4   wind_speed                 273 non-null    float64\n",
      " 5   humidity                   273 non-null    float64\n",
      " 6   low_temp                   273 non-null    float64\n",
      " 7   high_temp                  273 non-null    float64\n",
      " 8   Precipitation_Probability  273 non-null    float64\n",
      " 9   number_of_rentals          273 non-null    int64  \n",
      "dtypes: float64(8), int64(1), object(1)\n",
      "memory usage: 21.5+ KB\n"
     ]
    }
   ],
   "source": [
    "train_df.info()"
   ]
  },
  {
   "cell_type": "code",
   "execution_count": 5,
   "metadata": {},
   "outputs": [],
   "source": [
    "train_df['date_time'] = pd.to_datetime(train_df['date_time'])"
   ]
  },
  {
   "cell_type": "code",
   "execution_count": 6,
   "metadata": {},
   "outputs": [],
   "source": [
    "train_df['year'] = train_df['date_time'].dt.year\n",
    "train_df['month'] = train_df['date_time'].dt.month\n",
    "train_df['day'] = train_df['date_time'].dt.day\n",
    "train_df['dayofweek'] = train_df.date_time.dt.dayofweek"
   ]
  },
  {
   "cell_type": "code",
   "execution_count": 7,
   "metadata": {},
   "outputs": [
    {
     "data": {
      "text/plain": [
       "(array([-1.,  0.,  1.,  2.,  3.,  4.,  5.,  6.,  7.,  8.,  9.]),\n",
       " [Text(-1.0, 0, '(2020, 6)'),\n",
       "  Text(0.0, 0, '(2018, 4)'),\n",
       "  Text(1.0, 0, '(2018, 5)'),\n",
       "  Text(2.0, 0, '(2018, 6)'),\n",
       "  Text(3.0, 0, '(2019, 4)'),\n",
       "  Text(4.0, 0, '(2019, 5)'),\n",
       "  Text(5.0, 0, '(2019, 6)'),\n",
       "  Text(6.0, 0, '(2020, 4)'),\n",
       "  Text(7.0, 0, '(2020, 5)'),\n",
       "  Text(8.0, 0, '(2020, 6)'),\n",
       "  Text(9.0, 0, '')])"
      ]
     },
     "execution_count": 7,
     "metadata": {},
     "output_type": "execute_result"
    },
    {
     "data": {
      "image/png": "[encoded data removed]",
      "text/plain": [
       "<Figure size 432x288 with 1 Axes>"
      ]
     },
     "metadata": {
      "needs_background": "light"
     },
     "output_type": "display_data"
    }
   ],
   "source": [
    "train_df.groupby(['year','month'])['number_of_rentals'].mean().plot()\n",
    "plt.xticks(rotation = 90)"
   ]
  },
  {
   "cell_type": "code",
   "execution_count": 9,
   "metadata": {},
   "outputs": [
    {
     "ename": "ModuleNotFoundError",
     "evalue": "No module named 'seaborn'",
     "output_type": "error",
     "traceback": [
      "\u001b[1;31m---------------------------------------------------------------------------\u001b[0m",
      "\u001b[1;31mModuleNotFoundError\u001b[0m                       Traceback (most recent call last)",
      "\u001b[1;32m~\\AppData\\Local\\Temp/ipykernel_4400/2351219987.py\u001b[0m in \u001b[0;36m<module>\u001b[1;34m\u001b[0m\n\u001b[1;32m----> 1\u001b[1;33m \u001b[1;32mimport\u001b[0m \u001b[0mseaborn\u001b[0m \u001b[1;32mas\u001b[0m \u001b[0msns\u001b[0m\u001b[1;33m\u001b[0m\u001b[1;33m\u001b[0m\u001b[0m\n\u001b[0m",
      "\u001b[1;31mModuleNotFoundError\u001b[0m: No module named 'seaborn'"
     ]
    }
   ],
   "source": [
    "import seaborn as sns"
   ]
  },
  {
   "cell_type": "code",
   "execution_count": null,
   "metadata": {},
   "outputs": [],
   "source": []
  }
 ],
 "metadata": {
  "interpreter": {
   "hash": "ca886cc036a68e3f1a017223c2fc2c80a9067ef9ccbc637fc068c311044b690d"
  },
  "kernelspec": {
   "display_name": "Python 3.7.11 64-bit ('adp': conda)",
   "name": "python3"
  },
  "language_info": {
   "codemirror_mode": {
    "name": "ipython",
    "version": 3
   },
   "file_extension": ".py",
   "mimetype": "text/x-python",
   "name": "python",
   "nbconvert_exporter": "python",
   "pygments_lexer": "ipython3",
   "version": "3.7.11"
  },
  "orig_nbformat": 4
 },
 "nbformat": 4,
 "nbformat_minor": 2
}
